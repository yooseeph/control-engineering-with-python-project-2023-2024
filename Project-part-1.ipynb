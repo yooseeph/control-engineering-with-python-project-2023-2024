{
 "cells": [
  {
   "cell_type": "markdown",
   "metadata": {
    "tags": []
   },
   "source": [
    "# Self-Balancing Scooter Control\n",
    "\n",
    "![](images/self-balancing-scooter.png)\n",
    "\n",
    "> A self-balancing scooter [...] is a self-balancing personal transporter consisting of two motorized wheels connected to a pair of articulated pads on which the rider places their feet. The rider controls the speed by leaning forward or backward, and direction of travel by twisting the pads.\n",
    "> \n",
    "> Source: <https://en.wikipedia.org/wiki/Self-balancing_scooter>"
   ]
  },
  {
   "cell_type": "markdown",
   "metadata": {},
   "source": [
    "### Python Dependencies"
   ]
  },
  {
   "cell_type": "code",
   "execution_count": 1,
   "metadata": {},
   "outputs": [],
   "source": [
    "#this is the first change \n",
    "\n",
    "\n",
    "\n",
    "from numpy import *\n",
    "from numpy.linalg import *\n",
    "\n",
    "from scipy.linalg import *\n",
    "from scipy.integrate import *\n",
    "from scipy.signal import *\n",
    "\n",
    "from matplotlib.pyplot import *"
   ]
  },
  {
   "cell_type": "markdown",
   "metadata": {
    "tags": []
   },
   "source": [
    "Step 1 - Scooter Planar Model\n",
    "================================"
   ]
  },
  {
   "cell_type": "markdown",
   "metadata": {
    "tags": []
   },
   "source": [
    "### Introduction"
   ]
  },
  {
   "cell_type": "markdown",
   "metadata": {
    "tags": []
   },
   "source": [
    "We consider a simple model of a self-balancing scooter evolving in the plane. It is mainly made of\n",
    "\n",
    "  - The frame that contains the two articulated pads; from above, each pad essentially look like a triangle (one vertice in the center of the frame, one vertice at each extremity of the wheel).\n",
    "\n",
    "  - Two fixed wheels (their orientation with respect to the frame does not change). \n",
    "    They are parallel and located at opposite ends of the frame. \n",
    "    \n",
    "Let $(0, e_x, e_y)$ be a direct orthonormal frame of the plane. We denote \n",
    "\n",
    "  - $(x, y)$ the coordinates of the wheel axis center in the orthonormal and \n",
    "  - $\\theta$ the angle of the wheels direction with respect to vector $e_x$ ; with $\\theta = 0$ when the front of the scooter faces the right ($e_x$) and $\\theta = \\pi/2$ when it faces upwards ($e_y$).\n",
    "\n",
    "  - $\\phi_l$ and $\\phi_r$ the rotation angles of the left and right wheel respectively ; by convention, when these angles increase, the scooter moves forward."
   ]
  },
  {
   "cell_type": "markdown",
   "metadata": {
    "tags": []
   },
   "source": [
    "### Parameter Definition"
   ]
  },
  {
   "cell_type": "markdown",
   "metadata": {
    "tags": []
   },
   "source": [
    "From now on, we assume that the seat frame length is $\\ell = 50 \\mbox{ cm}$ and the wheel radius is $r = 12.5 \\mbox{ cm}$.\n",
    "\n",
    "🧩 Define the corresponding Python variables `l` and `r` (express every length in meters, and more generally in the sequel, always use the [international standard of units](https://en.wikipedia.org/wiki/SI_derived_unit)) for numerical values. "
   ]
  },
  {
   "cell_type": "code",
   "execution_count": 2,
   "metadata": {},
   "outputs": [],
   "source": [
    "l = 0.5  # length in meters\n",
    "r = 0.125  # radius in meters"
   ]
  },
  {
   "cell_type": "markdown",
   "metadata": {},
   "source": [
    "### Graphical Representation\n",
    "\n",
    "🧩 Implement a function `draw_scooter` with arguments `x`, `y` and `theta` that draws a simple geometric model of the wheelchair (with a red frame and black fixed wheels) in the plane (top view) for arbitrary values of $(x, y)$ and $\\theta$. Use a green circle marker 50 cm in of the frame to indicate which way is forward.\n",
    "\n",
    "🗝️ **Hint.** Use the function `plot` of `matplotlib.pyplot`."
   ]
  },
  {
   "cell_type": "code",
   "execution_count": 3,
   "metadata": {},
   "outputs": [
    {
     "data": {
      "image/png": "[encoded data removed]",
      "text/plain": [
       "<Figure size 640x480 with 1 Axes>"
      ]
     },
     "metadata": {},
     "output_type": "display_data"
    }
   ],
   "source": [
    "import matplotlib.pyplot as plt\n",
    "import numpy as np\n",
    "\n",
    "def draw_scooter(x, y, theta):\n",
    "\n",
    "    x_C=x\n",
    "    y_C=y\n",
    "    # Calcul de la hauteur du triangle\n",
    "    h = np.sqrt((l/2)**2 + r**2)\n",
    "\n",
    "    # Calcul des angles pour les sommets du triangle\n",
    "    gamma = theta - np.pi / 6\n",
    "    gamma1 = theta + np.pi / 6\n",
    "\n",
    "    # Calcul des coordonnées des sommets du triangle\n",
    "    x1 = x + h * np.sin(gamma)\n",
    "    y1 = y - h * np.cos(gamma)\n",
    "\n",
    "    x2 = x + h * np.sin(gamma1)\n",
    "    y2 = y - h * np.cos(gamma1)\n",
    "\n",
    "    x3 = x - h * np.sin(gamma)\n",
    "    y3 = y + h * np.cos(gamma)\n",
    "\n",
    "    x4 = x - h * np.sin(gamma1)\n",
    "    y4 = y + h * np.cos(gamma1)\n",
    "\n",
    "    # Coordonnées des sommets du triangle\n",
    "    x_L = [x2, x1, x3, x4]  # Coordonnées x des sommets\n",
    "    y_L = [y2, y1, y3, y4]  # Coordonnées y des sommets\n",
    "\n",
    "    x= [x,x,x,x]\n",
    "    y=[y,y,y,y]\n",
    "    # Tracer les lignes du triangle\n",
    "    plt.plot(x + [x_L[0]], y + [y_L[0]] ,color='red')\n",
    "\n",
    "    # Remplir le triangle pour le rendre plein\n",
    "    plt.fill(x_L, y_L, color='red')\n",
    "\n",
    "\n",
    "    # Tracer la ligne entre les deux points avec une épaisseur de trait de 3\n",
    "    plt.plot([x1, x2], [y1, y2], color='black', linewidth=3)\n",
    "    plt.plot([x3, x4], [y3, y4], color='black', linewidth=3)\n",
    "\n",
    "    # Calcul du centre du cercle circonscrit\n",
    "    x_C = x_C + l * np.cos(theta)\n",
    "    y_C = y_C + l * np.sin(theta)\n",
    "\n",
    "    # Créer un cercle plein\n",
    "    circle = plt.Circle((x_C, y_C), 0.05 , color='green', fill=True)\n",
    "\n",
    "    # Ajouter le cercle à l'axe actuel\n",
    "    plt.gca().add_patch(circle)\n",
    "\n",
    "\n",
    "\n",
    "\n",
    "# Exemple d'utilisation :\n",
    "vertex_x = 2\n",
    "vertex_y = -2\n",
    "theta = 0\n",
    "draw_scooter(vertex_x, vertex_y, theta)\n"
   ]
  },
  {
   "cell_type": "markdown",
   "metadata": {},
   "source": [
    "🧩 Represent the wheelchair when $(x, y, \\theta) = (0, 0, 0), (2, 2, \\pi/2), (0, 4, \\pi), (-2, 2, 3\\pi/2)$.\n",
    "\n",
    "🗝️ **Hint.** Use the following `draw_arena` function beforehand."
   ]
  },
  {
   "cell_type": "code",
   "execution_count": 4,
   "metadata": {},
   "outputs": [],
   "source": [
    "def draw_arena(xmin, xmax, ymin, ymax):\n",
    "    wh_ratio = (xmax - xmin) / (ymax - ymin)\n",
    "    figsize = fig_width, fig_height = 16, 16 / wh_ratio\n",
    "    figure(figsize=figsize)\n",
    "    axes = gca()\n",
    "    axes.axis([xmin, xmax, ymin, ymax])\n",
    "    axes.set_aspect(1)\n",
    "    xticks(arange(xmin, xmax+1, 1))\n",
    "    yticks(arange(ymin, ymax+1, 1))\n",
    "    grid(True)"
   ]
  },
  {
   "cell_type": "code",
   "execution_count": 5,
   "metadata": {},
   "outputs": [
    {
     "data": {
      "text/plain": [
       "<function matplotlib.pyplot.show(close=None, block=None)>"
      ]
     },
     "execution_count": 5,
     "metadata": {},
     "output_type": "execute_result"
    },
    {
     "data": {
      "image/png": "[encoded data removed]",
      "text/plain": [
       "<Figure size 1600x1600 with 1 Axes>"
      ]
     },
     "metadata": {},
     "output_type": "display_data"
    }
   ],
   "source": [
    "draw_arena(-5, 5, -5, 5)\n",
    "draw_scooter(0,0,0)\n",
    "draw_scooter(2,2,pi/2)\n",
    "draw_scooter(0,4,pi)\n",
    "draw_scooter(-2,2,3*pi/2)\n",
    "\n",
    "plt.show"
   ]
  },
  {
   "cell_type": "markdown",
   "metadata": {},
   "source": [
    "### Kinematic Modeling\n",
    "\n",
    "We assume that we can control the wheels angular velocities $\\omega_l = \\dot{\\phi}_l$ and $\\omega_r = \\dot{\\phi}_r$ (this is a *kinematic* model of the wheelchair).\n",
    "We also assume that the wheelchair fixed wheels roll without slipping. \n",
    "\n",
    "🧩 Establish the differential equations that relate $\\dot{x}$,\n",
    "$\\dot{y}$ and $\\dot{\\theta}$ with $\\omega_l$ and $\\omega_r$."
   ]
  },
  {
   "cell_type": "markdown",
   "metadata": {},
   "source": [
    "$P_{r}$ : Centre de la roue droite \\\\\n",
    "$Q_{r}$ : Point de contact de la roue droite avec le sol \\\\\n",
    "$P_{l}$ : Centre de la roue gauche \\\\\n",
    "$Q_{l}$ : Point de contact de la roue gauche avec le sol \\\\\n",
    "\n",
    "Pour la roue droite, on a : \\\\\n",
    "\n",
    "$\\overrightarrow{V_{Q_{r}}} = \\overrightarrow{V_{P_{r}}} + \\overrightarrow{Ω_{r}} \\wedge \\overrightarrow{P_{r}Q_{r}} = \\overrightarrow{0}  $ \\\\\n",
    "Car le roulement se fait sans glissement \\\\\n",
    "Alors : \\\\\n",
    "$ \\dot{x_{r}} \\overrightarrow{x} + \\dot{y_{r}} \\overrightarrow{y}  + \\left[ \\dot{θ} \\overrightarrow{z} + ω_{r} \\left( \\overrightarrow{x} sin(θ) - \\overrightarrow{y}cos(θ) \\right) \\right] \\wedge \\left( -\\overrightarrow{r}\\overrightarrow{z} \\right)  $ \\\\\n",
    "\n",
    "Donc: \\\\\n",
    "$ \\left( \\dot{x_{r}} + r\\omega_{r}cos(\\theta)  \\right) \\overrightarrow{x} + \\left( \\dot{y_{r}} + r\\omega_{r}sin(\\theta)\\overrightarrow{y}  \\right) = \\overrightarrow{0}  $ \\\\\n",
    "$$\n",
    "\\Rightarrow \\dot{x}{r} = - r\\omega{r}\\cos(\\theta) \\\\\n",
    "\\dot{y}{r} = - r\\omega{r}\\sin(\\theta)\n",
    "$$\n",
    "### Le système étudié : {Scooter control} } \n",
    "On pose : \\\\\n",
    "* $(x,y)$ les cordonnées du centre du scooter control \\\\\n",
    "* $(x_{r},y_{r})$ les cordonnées du centre de la roue droite \\\\\n",
    "* $(x_{l},y_{l})$ les cordonnées du centre de la roue gauche \\\\\n",
    "Alors :\n",
    "$ x_{r} = x + \\dfrac{l}{2}sin(\\theta) \\\\ \n",
    " y_{r} = y - \\dfrac{l}{2}cos(\\theta) $ \\\\\n",
    " et \\\\\n",
    "$ x_{l} = x + \\dfrac{l}{2}sin(\\theta) \\\\ \n",
    " y_{l} = y - \\dfrac{l}{2}cos(\\theta) $ \\\\"
   ]
  },
  {
   "cell_type": "markdown",
   "metadata": {},
   "source": [
    "### Analysis\n",
    "\n",
    "🧩 Show that if $\\omega_l$ and $\\omega_r$ are continuously differentiable functions of $(x, y, \\theta)$ (which includes the case of constant inputs), this system is well-posed."
   ]
  },
  {
   "cell_type": "markdown",
   "metadata": {},
   "source": [
    "**TODO**"
   ]
  },
  {
   "cell_type": "markdown",
   "metadata": {},
   "source": [
    "🧩 Show that if $\\omega_l$ and $\\omega_r$ are constants, the maximal solution associated to any initial state is global. Is is still true of $\\omega_l$ and $\\omega_r$ are arbitrary continuously differentiable functions of $(x, y, \\theta)$ ?"
   ]
  },
  {
   "cell_type": "markdown",
   "metadata": {},
   "source": [
    "**TODO**"
   ]
  },
  {
   "cell_type": "markdown",
   "metadata": {},
   "source": [
    "### Vector Field\n",
    "\n",
    "In the sequel, `omega` is a function that computes the input vector $\\omega := (\\omega_l, \\omega_r)$ given the time $t$ and $(x, y, \\theta)$ (thus, it may depend on the time and/or on the system state if needed). For example:"
   ]
  },
  {
   "cell_type": "code",
   "execution_count": 6,
   "metadata": {},
   "outputs": [],
   "source": [
    "def omega(t, xytheta):\n",
    "    omega_l = (1 - l/4) * pi / r\n",
    "    omega_r = (1 + l/4) * pi / r\n",
    "    return array([omega_l, omega_r])"
   ]
  },
  {
   "cell_type": "markdown",
   "metadata": {},
   "source": [
    "🧩 Implement a function `fun(t, xytheta)` that computes $(\\dot{x}, \\dot{y}, \\dot{\\theta})$ given the time $t$ and $(x,y,\\theta)$ (and implicitly the inputs $\\omega$ computed by the function `omega`)."
   ]
  },
  {
   "cell_type": "code",
   "execution_count": 7,
   "metadata": {},
   "outputs": [],
   "source": [
    "def fun(t, xytheta):\n",
    "    \n",
    "    x, y ,theta = xytheta\n",
    "    w=omega(t,xytheta)\n",
    "\n",
    "    x_ = 1/2 * r * (w[0] - w[1]) *cos(theta)\n",
    "    y_ = 1/2 * r * (w[0] - w[1]) *sin(theta)\n",
    "    theta_ = -r (w[0] - w[1])\n",
    " \n",
    "    return array([x_,y_,theta_])"
   ]
  },
  {
   "cell_type": "markdown",
   "metadata": {},
   "source": [
    "### Simulation Setup\n",
    "\n",
    "🧩 Simulate the wheelchair dynamics for 4 seconds when $(x_0, y_0, \\theta_0)(t=0) = (0.0, 0.0, 0.0)$,\n",
    "and the wheels velocities are the constants $\\omega_l = (1 - \\ell/4)  \\pi / r \\mbox{ rad/s}$ and $\\omega_r = (1 + \\ell/4)  \\pi / r \\mbox{ rad/s}$.\n",
    "(Compute the dense outputs.)\n",
    "   "
   ]
  },
  {
   "cell_type": "code",
   "execution_count": 8,
   "metadata": {},
   "outputs": [],
   "source": [
    "pass"
   ]
  },
  {
   "cell_type": "markdown",
   "metadata": {},
   "source": [
    "🧩 Use the simulation results to draw the graphs of $x(t)$, $y(t)$ and $\\theta(t)$."
   ]
  },
  {
   "cell_type": "code",
   "execution_count": 9,
   "metadata": {},
   "outputs": [],
   "source": [
    "pass"
   ]
  },
  {
   "cell_type": "markdown",
   "metadata": {},
   "source": [
    "🧩 Use the simulation results to display the robot location every 0.5 second."
   ]
  },
  {
   "cell_type": "code",
   "execution_count": 10,
   "metadata": {},
   "outputs": [],
   "source": [
    "pass"
   ]
  },
  {
   "cell_type": "markdown",
   "metadata": {},
   "source": [
    "🧩 What should be the analytical expression of $x(t)$, $y(t)$ and $\\theta(t)$? "
   ]
  },
  {
   "cell_type": "markdown",
   "metadata": {},
   "source": [
    "**TODO**"
   ]
  },
  {
   "cell_type": "markdown",
   "metadata": {},
   "source": [
    "🧩 Do you experimental results match the theoretical results ? Draw the curves of the simulation error at time $t$ for $x$, $y$ and $\\theta$."
   ]
  },
  {
   "cell_type": "code",
   "execution_count": 11,
   "metadata": {},
   "outputs": [],
   "source": [
    "pass"
   ]
  },
  {
   "cell_type": "markdown",
   "metadata": {},
   "source": [
    "🧩 If needed, adjust the simulation parameters the simulated position error is less than $1\\, \\mathrm{ mm}$. "
   ]
  },
  {
   "cell_type": "code",
   "execution_count": 12,
   "metadata": {},
   "outputs": [],
   "source": [
    "pass"
   ]
  }
 ],
 "metadata": {
  "kernelspec": {
   "display_name": "Python 3 (ipykernel)",
   "language": "python",
   "name": "python3"
  },
  "language_info": {
   "codemirror_mode": {
    "name": "ipython",
    "version": 3
   },
   "file_extension": ".py",
   "mimetype": "text/x-python",
   "name": "python",
   "nbconvert_exporter": "python",
   "pygments_lexer": "ipython3",
   "version": "3.9.13"
  }
 },
 "nbformat": 4,
 "nbformat_minor": 4
}
