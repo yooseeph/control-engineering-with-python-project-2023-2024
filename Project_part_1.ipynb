{
  "cells": [
    {
      "cell_type": "markdown",
      "metadata": {
        "tags": [],
        "id": "CXaZjCzu-Kec"
      },
      "source": [
        "# Self-Balancing Scooter Control\n",
        "\n",
        "![](images/self-balancing-scooter.png)\n",
        "\n",
        "> A self-balancing scooter [...] is a self-balancing personal transporter consisting of two motorized wheels connected to a pair of articulated pads on which the rider places their feet. The rider controls the speed by leaning forward or backward, and direction of travel by twisting the pads.\n",
        ">\n",
        "> Source: <https://en.wikipedia.org/wiki/Self-balancing_scooter>"
      ]
    },
    {
      "cell_type": "markdown",
      "metadata": {
        "id": "8uDuH03k-Ked"
      },
      "source": [
        "### Python Dependencies"
      ]
    },
    {
      "cell_type": "code",
      "execution_count": 13,
      "metadata": {
        "id": "BhcOUweR-Kee"
      },
      "outputs": [],
      "source": [
        "from numpy import *\n",
        "from numpy.linalg import *\n",
        "\n",
        "from scipy.linalg import *\n",
        "from scipy.integrate import *\n",
        "from scipy.signal import *\n",
        "\n",
        "from matplotlib.pyplot import *"
      ]
    },
    {
      "cell_type": "markdown",
      "metadata": {
        "tags": [],
        "id": "BP5DfL7h-Kef"
      },
      "source": [
        "Step 1 - Scooter Planar Model\n",
        "================================"
      ]
    },
    {
      "cell_type": "markdown",
      "metadata": {
        "tags": [],
        "id": "BviLvmxN-Kef"
      },
      "source": [
        "### Introduction"
      ]
    },
    {
      "cell_type": "markdown",
      "metadata": {
        "tags": [],
        "id": "8dwq8e8Y-Kef"
      },
      "source": [
        "We consider a simple model of a self-balancing scooter evolving in the plane. It is mainly made of\n",
        "\n",
        "  - The frame that contains the two articulated pads; from above, each pad essentially look like a triangle (one vertice in the center of the frame, one vertice at each extremity of the wheel).\n",
        "\n",
        "  - Two fixed wheels (their orientation with respect to the frame does not change).\n",
        "    They are parallel and located at opposite ends of the frame.\n",
        "    \n",
        "Let $(0, e_x, e_y)$ be a direct orthonormal frame of the plane. We denote\n",
        "\n",
        "  - $(x, y)$ the coordinates of the wheel axis center in the orthonormal and\n",
        "  - $\\theta$ the angle of the wheels direction with respect to vector $e_x$ ; with $\\theta = 0$ when the front of the scooter faces the right ($e_x$) and $\\theta = \\pi/2$ when it faces upwards ($e_y$).\n",
        "\n",
        "  - $\\phi_l$ and $\\phi_r$ the rotation angles of the left and right wheel respectively ; by convention, when these angles increase, the scooter moves forward."
      ]
    },
    {
      "cell_type": "markdown",
      "metadata": {
        "tags": [],
        "id": "KM6UvskF-Kef"
      },
      "source": [
        "### Parameter Definition"
      ]
    },
    {
      "cell_type": "markdown",
      "metadata": {
        "tags": [],
        "id": "LfeOrfC5-Keg"
      },
      "source": [
        "From now on, we assume that the seat frame length is $\\ell = 50 \\mbox{ cm}$ and the wheel radius is $r = 12.5 \\mbox{ cm}$.\n",
        "\n",
        "🧩 Define the corresponding Python variables `l` and `r` (express every length in meters, and more generally in the sequel, always use the [international standard of units](https://en.wikipedia.org/wiki/SI_derived_unit)) for numerical values."
      ]
    },
    {
      "cell_type": "code",
      "execution_count": 3,
      "metadata": {
        "id": "VyGGpNX9-Keg"
      },
      "outputs": [],
      "source": [
        "l = 0.5  # length in meters\n",
        "r = 0.125  # radius in meters"
      ]
    },
    {
      "cell_type": "markdown",
      "metadata": {
        "id": "2thpr0Ip-Keg"
      },
      "source": [
        "### Graphical Representation\n",
        "\n",
        "🧩 Implement a function `draw_scooter` with arguments `x`, `y` and `theta` that draws a simple geometric model of the wheelchair (with a red frame and black fixed wheels) in the plane (top view) for arbitrary values of $(x, y)$ and $\\theta$. Use a green circle marker 50 cm in of the frame to indicate which way is forward.\n",
        "\n",
        "🗝️ **Hint.** Use the function `plot` of `matplotlib.pyplot`."
      ]
    },
    {
      "cell_type": "code",
      "execution_count": 5,
      "metadata": {
        "colab": {
          "base_uri": "https://localhost:8080/",
          "height": 430
        },
        "id": "dXFji83y-Keg",
        "outputId": "4ba5a94e-03e8-4ff1-8229-f4391eaceab9"
      },
      "outputs": [
        {
          "output_type": "display_data",
          "data": {
            "text/plain": [
              "<Figure size 640x480 with 1 Axes>"
            ],
            "image/png": "[encoded data removed]"
          },
          "metadata": {}
        }
      ],
      "source": [
        "import matplotlib.pyplot as plt\n",
        "import numpy as np\n",
        "\n",
        "def draw_scooter(x, y, theta):\n",
        "\n",
        "    x_C=x\n",
        "    y_C=y\n",
        "    # Calcul de la hauteur du triangle\n",
        "    h = np.sqrt((l/2)**2 + r**2)\n",
        "\n",
        "    # Calcul des angles pour les sommets du triangle\n",
        "    gamma = theta - np.pi / 6\n",
        "    gamma1 = theta + np.pi / 6\n",
        "\n",
        "    # Calcul des coordonnées des sommets du triangle\n",
        "    x1 = x + h * np.sin(gamma)\n",
        "    y1 = y - h * np.cos(gamma)\n",
        "\n",
        "    x2 = x + h * np.sin(gamma1)\n",
        "    y2 = y - h * np.cos(gamma1)\n",
        "\n",
        "    x3 = x - h * np.sin(gamma)\n",
        "    y3 = y + h * np.cos(gamma)\n",
        "\n",
        "    x4 = x - h * np.sin(gamma1)\n",
        "    y4 = y + h * np.cos(gamma1)\n",
        "\n",
        "    # Coordonnées des sommets du triangle\n",
        "    x_L = [x2, x1, x3, x4]  # Coordonnées x des sommets\n",
        "    y_L = [y2, y1, y3, y4]  # Coordonnées y des sommets\n",
        "\n",
        "    x= [x,x,x,x]\n",
        "    y=[y,y,y,y]\n",
        "    # Tracer les lignes du triangle\n",
        "    plt.plot(x + [x_L[0]], y + [y_L[0]] ,color='red')\n",
        "\n",
        "    # Remplir le triangle pour le rendre plein\n",
        "    plt.fill(x_L, y_L, color='red')\n",
        "\n",
        "\n",
        "    # Tracer la ligne entre les deux points avec une épaisseur de trait de 3\n",
        "    plt.plot([x1, x2], [y1, y2], color='black', linewidth=3)\n",
        "    plt.plot([x3, x4], [y3, y4], color='black', linewidth=3)\n",
        "\n",
        "    # Calcul du centre du cercle circonscrit\n",
        "    x_C = x_C + l * np.cos(theta)\n",
        "    y_C = y_C + l * np.sin(theta)\n",
        "\n",
        "    # Créer un cercle plein\n",
        "    circle = plt.Circle((x_C, y_C), 0.05 , color='green', fill=True)\n",
        "\n",
        "    # Ajouter le cercle à l'axe actuel\n",
        "    plt.gca().add_patch(circle)\n",
        "\n",
        "\n",
        "\n",
        "\n",
        "# Exemple d'utilisation :\n",
        "vertex_x = 2\n",
        "vertex_y = -2\n",
        "theta = 0\n",
        "draw_scooter(vertex_x, vertex_y, theta)\n"
      ]
    },
    {
      "cell_type": "markdown",
      "metadata": {
        "id": "8Vzf4vuM-Keh"
      },
      "source": [
        "🧩 Represent the wheelchair when $(x, y, \\theta) = (0, 0, 0), (2, 2, \\pi/2), (0, 4, \\pi), (-2, 2, 3\\pi/2)$.\n",
        "\n",
        "🗝️ **Hint.** Use the following `draw_arena` function beforehand."
      ]
    },
    {
      "cell_type": "code",
      "execution_count": 6,
      "metadata": {
        "id": "TTWlkNLN-Keh"
      },
      "outputs": [],
      "source": [
        "def draw_arena(xmin, xmax, ymin, ymax):\n",
        "    wh_ratio = (xmax - xmin) / (ymax - ymin)\n",
        "    figsize = fig_width, fig_height = 16, 16 / wh_ratio\n",
        "    figure(figsize=figsize)\n",
        "    axes = gca()\n",
        "    axes.axis([xmin, xmax, ymin, ymax])\n",
        "    axes.set_aspect(1)\n",
        "    xticks(arange(xmin, xmax+1, 1))\n",
        "    yticks(arange(ymin, ymax+1, 1))\n",
        "    grid(True)"
      ]
    },
    {
      "cell_type": "code",
      "execution_count": 7,
      "metadata": {
        "colab": {
          "base_uri": "https://localhost:8080/",
          "height": 1000
        },
        "id": "eaN6kK-5-Keh",
        "outputId": "d8de16f1-e1c6-45bf-8d23-691230311012"
      },
      "outputs": [
        {
          "output_type": "execute_result",
          "data": {
            "text/plain": [
              "<function matplotlib.pyplot.show(close=None, block=None)>"
            ],
            "text/html": [
              "<div style=\"max-width:800px; border: 1px solid var(--colab-border-color);\"><style>\n",
              "      pre.function-repr-contents {\n",
              "        overflow-x: auto;\n",
              "        padding: 8px 12px;\n",
              "        max-height: 500px;\n",
              "      }\n",
              "\n",
              "      pre.function-repr-contents.function-repr-contents-collapsed {\n",
              "        cursor: pointer;\n",
              "        max-height: 100px;\n",
              "      }\n",
              "    </style>\n",
              "    <pre style=\"white-space: initial; background:\n",
              "         var(--colab-secondary-surface-color); padding: 8px 12px;\n",
              "         border-bottom: 1px solid var(--colab-border-color);\"><b>matplotlib.pyplot.show</b><br/>def show(*args, **kwargs)</pre><pre class=\"function-repr-contents function-repr-contents-collapsed\" style=\"\"><a class=\"filepath\" style=\"display:none\" href=\"#\">/usr/local/lib/python3.10/dist-packages/matplotlib/pyplot.py</a>Display all open figures.\n",
              "\n",
              "Parameters\n",
              "----------\n",
              "block : bool, optional\n",
              "    Whether to wait for all figures to be closed before returning.\n",
              "\n",
              "    If `True` block and run the GUI main loop until all figure windows\n",
              "    are closed.\n",
              "\n",
              "    If `False` ensure that all figure windows are displayed and return\n",
              "    immediately.  In this case, you are responsible for ensuring\n",
              "    that the event loop is running to have responsive figures.\n",
              "\n",
              "    Defaults to True in non-interactive mode and to False in interactive\n",
              "    mode (see `.pyplot.isinteractive`).\n",
              "\n",
              "See Also\n",
              "--------\n",
              "ion : Enable interactive mode, which shows / updates the figure after\n",
              "      every plotting command, so that calling ``show()`` is not necessary.\n",
              "ioff : Disable interactive mode.\n",
              "savefig : Save the figure to an image file instead of showing it on screen.\n",
              "\n",
              "Notes\n",
              "-----\n",
              "**Saving figures to file and showing a window at the same time**\n",
              "\n",
              "If you want an image file as well as a user interface window, use\n",
              "`.pyplot.savefig` before `.pyplot.show`. At the end of (a blocking)\n",
              "``show()`` the figure is closed and thus unregistered from pyplot. Calling\n",
              "`.pyplot.savefig` afterwards would save a new and thus empty figure. This\n",
              "limitation of command order does not apply if the show is non-blocking or\n",
              "if you keep a reference to the figure and use `.Figure.savefig`.\n",
              "\n",
              "**Auto-show in jupyter notebooks**\n",
              "\n",
              "The jupyter backends (activated via ``%matplotlib inline``,\n",
              "``%matplotlib notebook``, or ``%matplotlib widget``), call ``show()`` at\n",
              "the end of every cell by default. Thus, you usually don&#x27;t have to call it\n",
              "explicitly there.</pre>\n",
              "      <script>\n",
              "      if (google.colab.kernel.accessAllowed && google.colab.files && google.colab.files.view) {\n",
              "        for (const element of document.querySelectorAll('.filepath')) {\n",
              "          element.style.display = 'block'\n",
              "          element.onclick = (event) => {\n",
              "            event.preventDefault();\n",
              "            event.stopPropagation();\n",
              "            google.colab.files.view(element.textContent, 401);\n",
              "          };\n",
              "        }\n",
              "      }\n",
              "      for (const element of document.querySelectorAll('.function-repr-contents')) {\n",
              "        element.onclick = (event) => {\n",
              "          event.preventDefault();\n",
              "          event.stopPropagation();\n",
              "          element.classList.toggle('function-repr-contents-collapsed');\n",
              "        };\n",
              "      }\n",
              "      </script>\n",
              "      </div>"
            ]
          },
          "metadata": {},
          "execution_count": 7
        },
        {
          "output_type": "display_data",
          "data": {
            "text/plain": [
              "<Figure size 1600x1600 with 1 Axes>"
            ],
            "image/png": "[encoded data removed]"
          },
          "metadata": {}
        }
      ],
      "source": [
        "draw_arena(-5, 5, -5, 5)\n",
        "draw_scooter(0,0,0)\n",
        "draw_scooter(2,2,pi/2)\n",
        "draw_scooter(0,4,pi)\n",
        "draw_scooter(-2,2,3*pi/2)\n",
        "\n",
        "plt.show"
      ]
    },
    {
      "cell_type": "markdown",
      "metadata": {
        "id": "fur2VNI5-Keh"
      },
      "source": [
        "### Kinematic Modeling\n",
        "\n",
        "We assume that we can control the wheels angular velocities $\\omega_l = \\dot{\\phi}_l$ and $\\omega_r = \\dot{\\phi}_r$ (this is a *kinematic* model of the wheelchair).\n",
        "We also assume that the wheelchair fixed wheels roll without slipping.\n",
        "\n",
        "🧩 Establish the differential equations that relate $\\dot{x}$,\n",
        "$\\dot{y}$ and $\\dot{\\theta}$ with $\\omega_l$ and $\\omega_r$."
      ]
    },
    {
      "cell_type": "markdown",
      "source": [
        "Pour établir les équations différentielles reliant $\\dot{x}$, $\\dot{y}$ et $\\dot{\\theta}$ à $\\omega_l$ et $\\omega_r$, nous devons d'abord définir les vitesses des roues gauche et droite, puis les relier à la vitesse du scooter dans le plan $(x, y)$ et à sa vitesse angulaire $\\dot{\\theta}$.\n",
        "\n",
        "Soient:\n",
        "\n",
        "- $R$ le rayon des roues,\n",
        "- $L$ la distance entre les roues (empattement),\n",
        "- $\\ell$ la distance du centre du châssis à l'axe de la roue (la moitié de l'empattement).\n",
        "\n",
        "La vitesse des roues gauche et droite, $v_l$ et $v_r$ respectivement, peut être exprimée comme suit: \\\\\n",
        "\n",
        "$v_l = R \\cdot \\omega_l\n",
        "$\n",
        "\n",
        "$\n",
        "v_r = R \\cdot \\omega_r\n",
        "$\n",
        "\n",
        "La vitesse du centre du châssis $(\\dot{x}, \\dot{y})$ peut être obtenue à partir de la moyenne des vitesses des deux roues:\n",
        "\n",
        "$\n",
        "\\dot{x} = \\frac{v_l + v_r}{2} \\cdot \\cos(\\theta)\n",
        "$\n",
        "\n",
        "$\n",
        "\\dot{y} = \\frac{v_l + v_r}{2} \\cdot \\sin(\\theta)\n",
        "$\n",
        "\n",
        "La vitesse angulaire $\\dot{\\theta}$ peut être exprimée en termes de différence entre les vitesses des roues gauche et droite, divisée par la distance entre les roues:\n",
        "\n",
        "$\n",
        "\\dot{\\theta} = \\frac{v_r - v_l}{L}\n",
        "$\n",
        "\n",
        "En substituant $v_l$ et $v_r$ par leurs expressions en termes de $\\omega_l$ et $\\omega_r$, on obtient:\n",
        "\n",
        "$\n",
        "\\dot{\\theta} = \\frac{R}{L} (\\omega_r - \\omega_l)\n",
        "$\n",
        "\n",
        "Maintenant, nous avons un ensemble d'équations différentielles reliant $\\dot{x}$, $\\dot{y}$ et $\\dot{\\theta}$ à $\\omega_l$ et $\\omega_r$:\n",
        "\n",
        "$\n",
        "\\dot{x} = \\frac{R}{2} (\\omega_l + \\omega_r) \\cos(\\theta)\n",
        "\\\\ $ \\\\\n",
        "$ \\dot{y} = \\frac{R}{2} (\\omega_l + \\omega_r) \\sin(\\theta)\n",
        " \\\\ $\n",
        "\n",
        "$\n",
        "\\dot{\\theta} = \\frac{R}{L} (\\omega_r - \\omega_l)\n",
        "$\n",
        "\n"
      ],
      "metadata": {
        "id": "-4N9g7QR3Baz"
      }
    },
    {
      "cell_type": "markdown",
      "metadata": {
        "id": "Pjt1ji6C-Keh"
      },
      "source": [
        "### Analysis\n",
        "\n",
        "🧩 Show that if $\\omega_l$ and $\\omega_r$ are continuously differentiable functions of $(x, y, \\theta)$ (which includes the case of constant inputs), this system is well-posed."
      ]
    },
    {
      "cell_type": "markdown",
      "metadata": {
        "id": "hP4xZKUZ-Keh"
      },
      "source": [
        "On sait que $\\omega_{p} et \\omega_{r}$ sont des fonctions continument différentieables en fonction de $h$ , $y$ et $θ  \\\\ $\n",
        "* On a donc : \\\\ $ \\omega_{l}=G_{l} ( x \\cdot y \\cdot \\theta) \\\\ $  \n",
        "$ \\omega_{r}=G_{r} ( x \\cdot y \\cdot \\theta) \\\\ $  \n",
        "Et on a donc :\n",
        "$ \\begin{pmatrix}\n",
        "\\dot{x}  \\\\\n",
        "\\dot{y}  \\\\\n",
        "\\dot{\\theta}\n",
        "\\end{pmatrix} = \\begin{pmatrix}\n",
        "\\dfrac{1}{2}r(\\frac{R}{2} (\\omega_l + \\omega_r) \\cos(\\theta)  \\\\\n",
        "\\frac{R}{2} (\\omega_l + \\omega_r) \\sin(\\theta)  \\\\\n",
        "\\frac{R}{L} (\\omega_r - \\omega_l)\n",
        "\\end{pmatrix} $\n",
        "\\\\\n",
        "* On considère alors la fonction: \\\\\n",
        "$f$: $\\mathbb{R}^3$ ⟶ $\\mathbb{R}^3$ \\\\\n",
        "$ \\begin{pmatrix}\n",
        "{x}  \\\\\n",
        "{y}  \\\\\n",
        "{\\theta}\n",
        "\\end{pmatrix} ⟶ \\begin{pmatrix}\n",
        "\\dfrac{1}{2}r(\\frac{R}{2} (G_l + G_r) \\cos(\\theta)  \\\\\n",
        "\\frac{R}{2} (G_l + G_r) \\sin(\\theta)  \\\\\n",
        "\\frac{R}{L} (G_r - G_l)\n",
        "\\end{pmatrix} $ \\\\\n",
        "$G_l(x, y , \\theta), G_r(x, y , \\theta)$\n",
        "\n",
        "* On a f est continue, ce qui assure l'existence de la solution.\n",
        "* La matrice Jacobienne de f, $\\frac{\\partial f}{\\partial x} $ existe et continue car $\\omega_r$ et $\\omega_l$  sont continument différentiables, e qui assure l'unicité de la solution maximale.\n",
        "* D'après ce qui précède, on en déduit que le système est bien posé.\n"
      ]
    },
    {
      "cell_type": "markdown",
      "metadata": {
        "id": "vkh5sl3s-Keh"
      },
      "source": [
        "🧩 Show that if $\\omega_l$ and $\\omega_r$ are constants, the maximal solution associated to any initial state is global. Is is still true of $\\omega_l$ and $\\omega_r$ are arbitrary continuously differentiable functions of $(x, y, \\theta)$ ?"
      ]
    },
    {
      "cell_type": "markdown",
      "metadata": {
        "id": "3nKl0iaE-Kei"
      },
      "source": [
        "**TODO**"
      ]
    },
    {
      "cell_type": "markdown",
      "metadata": {
        "id": "CGJ0Hqgn-Kei"
      },
      "source": [
        "### Vector Field\n",
        "\n",
        "In the sequel, `omega` is a function that computes the input vector $\\omega := (\\omega_l, \\omega_r)$ given the time $t$ and $(x, y, \\theta)$ (thus, it may depend on the time and/or on the system state if needed). For example:"
      ]
    },
    {
      "cell_type": "code",
      "execution_count": 14,
      "metadata": {
        "id": "NHMyWTs--Kei"
      },
      "outputs": [],
      "source": [
        "def omega(t, xytheta):\n",
        "    omega_l = (1 - l/4) * pi / r\n",
        "    omega_r = (1 + l/4) * pi / r\n",
        "    return array([omega_l, omega_r])"
      ]
    },
    {
      "cell_type": "markdown",
      "metadata": {
        "id": "mwrkD-jw-Kei"
      },
      "source": [
        "🧩 Implement a function `fun(t, xytheta)` that computes $(\\dot{x}, \\dot{y}, \\dot{\\theta})$ given the time $t$ and $(x,y,\\theta)$ (and implicitly the inputs $\\omega$ computed by the function `omega`)."
      ]
    },
    {
      "cell_type": "code",
      "execution_count": 15,
      "metadata": {
        "id": "tQL8xYvf-Kei"
      },
      "outputs": [],
      "source": [
        "def fun(t, xytheta):\n",
        "\n",
        "    x, y ,theta = xytheta\n",
        "    w=omega(t,xytheta)\n",
        "\n",
        "    xp = 1/2 * r * (w[0] + w[1]) *cos(theta)\n",
        "    yp = 1/2 * r * (w[0] + w[1]) *sin(theta)\n",
        "    theta_p = r/l * (w[1] - w[0])\n",
        "\n",
        "    return array([xp , yp ,theta_p])"
      ]
    },
    {
      "cell_type": "markdown",
      "metadata": {
        "id": "WKKakuoF-Kei"
      },
      "source": [
        "### Simulation Setup\n",
        "\n",
        "🧩 Simulate the wheelchair dynamics for 4 seconds when $(x_0, y_0, \\theta_0)(t=0) = (0.0, 0.0, 0.0)$,\n",
        "and the wheels velocities are the constants $\\omega_l = (1 - \\ell/4)  \\pi / r \\mbox{ rad/s}$ and $\\omega_r = (1 + \\ell/4)  \\pi / r \\mbox{ rad/s}$.\n",
        "(Compute the dense outputs.)\n",
        "   "
      ]
    },
    {
      "cell_type": "code",
      "execution_count": 16,
      "metadata": {
        "id": "THBYdawS-Kei"
      },
      "outputs": [],
      "source": [
        "t_span = [0.0, 4]\n",
        "y0 = [0.0, 0.0, 0.0]\n",
        "max_step=0.01\n",
        "t_eval = linspace(0,4,9)\n",
        "result = solve_ivp(fun=fun, t_span=t_span, y0=y0,  max_step=max_step, t_eval=t_eval)\n",
        "r_t = result[\"t\"]\n",
        "x = result[\"y\"][0]\n",
        "y = result[\"y\"][1]\n",
        "theta = result[\"y\"][2]\n",
        "sol=result[\"sol\"]"
      ]
    },
    {
      "cell_type": "markdown",
      "metadata": {
        "id": "xiXLkh1P-Kei"
      },
      "source": [
        "🧩 Use the simulation results to draw the graphs of $x(t)$, $y(t)$ and $\\theta(t)$."
      ]
    },
    {
      "cell_type": "code",
      "execution_count": 17,
      "metadata": {
        "colab": {
          "base_uri": "https://localhost:8080/",
          "height": 466
        },
        "id": "4ydrT3fH-Kei",
        "outputId": "9f3e1a1f-7e87-4219-db9a-9607dcc5d228"
      },
      "outputs": [
        {
          "output_type": "execute_result",
          "data": {
            "text/plain": [
              "<matplotlib.legend.Legend at 0x7cc299189f00>"
            ]
          },
          "metadata": {},
          "execution_count": 17
        },
        {
          "output_type": "display_data",
          "data": {
            "text/plain": [
              "<Figure size 640x480 with 1 Axes>"
            ],
            "image/png": "[encoded data removed]"
          },
          "metadata": {}
        }
      ],
      "source": [
        "figure()\n",
        "plot(r_t ,x, \".-\", label=\"$x(t)$\")\n",
        "plot(r_t, y, \".-\", label=\"$y(t)$\")\n",
        "plot(r_t, theta, \".-\", label=\"$theta(t)$\")\n",
        "xlabel(\"$t$\"); grid(); legend()"
      ]
    },
    {
      "cell_type": "markdown",
      "metadata": {
        "id": "SwlqtSJz-Kei"
      },
      "source": [
        "🧩 Use the simulation results to display the robot location every 0.5 second."
      ]
    },
    {
      "cell_type": "code",
      "execution_count": 18,
      "metadata": {
        "colab": {
          "base_uri": "https://localhost:8080/",
          "height": 594
        },
        "id": "Iex3za2f-Kei",
        "outputId": "597b80bf-d1ac-47e1-b27e-c8273dab211d"
      },
      "outputs": [
        {
          "output_type": "display_data",
          "data": {
            "text/plain": [
              "<Figure size 1600x960 with 1 Axes>"
            ],
            "image/png": "[encoded data removed]"
          },
          "metadata": {}
        }
      ],
      "source": [
        "draw_arena(-5, 5, -1, 5)\n",
        "for i in range(len(x)):\n",
        "    draw_scooter(x[i],y[i],theta[i])\n",
        ""
      ]
    },
    {
      "cell_type": "markdown",
      "metadata": {
        "id": "VvN1kf9g-Kej"
      },
      "source": [
        "🧩 What should be the analytical expression of $x(t)$, $y(t)$ and $\\theta(t)$?"
      ]
    },
    {
      "cell_type": "markdown",
      "metadata": {
        "id": "UMyMHBOB-Kej"
      },
      "source": [
        "$\\theta(t) = \\left(\\frac{\\pi}{2}\\right) t \\\\\n",
        "x(t) = 2 \\sin\\left(\\frac{\\pi}{2} t\\right) \\\\\n",
        "y(t) = -2 \\cos\\left(\\frac{\\pi}{2} t\\right) + 2 $"
      ]
    },
    {
      "cell_type": "markdown",
      "metadata": {
        "id": "aKbGTl10-Kej"
      },
      "source": [
        "🧩 Do you experimental results match the theoretical results ? Draw the curves of the simulation error at time $t$ for $x$, $y$ and $\\theta$."
      ]
    },
    {
      "cell_type": "code",
      "execution_count": 20,
      "metadata": {
        "colab": {
          "base_uri": "https://localhost:8080/",
          "height": 106
        },
        "id": "_8HfNXnE-Kej",
        "outputId": "ece8f0b0-9578-4132-e721-902c603704c6"
      },
      "outputs": [
        {
          "output_type": "error",
          "ename": "SyntaxError",
          "evalue": "invalid syntax (<ipython-input-20-0d980c03c3d6>, line 10)",
          "traceback": [
            "\u001b[0;36m  File \u001b[0;32m\"<ipython-input-20-0d980c03c3d6>\"\u001b[0;36m, line \u001b[0;32m10\u001b[0m\n\u001b[0;31m    plot(r_t ,x - , \".-\", label=\"$x(t)$\")\u001b[0m\n\u001b[0m                  ^\u001b[0m\n\u001b[0;31mSyntaxError\u001b[0m\u001b[0;31m:\u001b[0m invalid syntax\n"
          ]
        }
      ],
      "source": [
        "def resul_theo_0_x_y(t):\n",
        "    return ( np.pi/2 *t , 2*np.sin(2*np.pi) , 2 - 2* np.cos(np.pi/2 *t) )\n",
        "\n",
        "t_eval = linspace(0,4,500)\n",
        "theta_the , x_theo , y_theo =resul_theo_0_x_y(t)\n",
        "\n",
        "er_x\n",
        "\n",
        "figure()\n",
        "plot(r_t ,x - , \".-\", label=\"$x(t)$\")\n",
        "plot(r_t, y, \".-\", label=\"$y(t)$\")\n",
        "plot(r_t, theta, \".-\", label=\"$theta(t)$\")\n",
        "xlabel(\"$t$\"); grid(); legend()"
      ]
    },
    {
      "cell_type": "markdown",
      "metadata": {
        "id": "qPOHJSfQ-Kej"
      },
      "source": [
        "🧩 If needed, adjust the simulation parameters the simulated position error is less than $1\\, \\mathrm{ mm}$."
      ]
    },
    {
      "cell_type": "code",
      "execution_count": null,
      "metadata": {
        "id": "t2hLoZyS-Kej"
      },
      "outputs": [],
      "source": [
        "pass"
      ]
    }
  ],
  "metadata": {
    "kernelspec": {
      "display_name": "Python 3 (ipykernel)",
      "language": "python",
      "name": "python3"
    },
    "language_info": {
      "codemirror_mode": {
        "name": "ipython",
        "version": 3
      },
      "file_extension": ".py",
      "mimetype": "text/x-python",
      "name": "python",
      "nbconvert_exporter": "python",
      "pygments_lexer": "ipython3",
      "version": "3.12.0"
    },
    "colab": {
      "provenance": []
    }
  },
  "nbformat": 4,
  "nbformat_minor": 0
}